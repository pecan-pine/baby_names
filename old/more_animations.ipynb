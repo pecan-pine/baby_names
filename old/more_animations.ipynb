{
 "cells": [
  {
   "cell_type": "code",
   "execution_count": 1,
   "metadata": {},
   "outputs": [],
   "source": [
    "import mysql.connector\n",
    "import matplotlib.pyplot as plt\n",
    "from matplotlib.font_manager import FontProperties\n",
    "import matplotlib.animation as animation\n",
    "#connect to mysql server with database baby_names\n",
    "cnx = mysql.connector.connect(user='python', database='baby_names')\n",
    "#create mysql cursor object\n",
    "cur = cnx.cursor()"
   ]
  },
  {
   "cell_type": "code",
   "execution_count": 10,
   "metadata": {},
   "outputs": [
    {
     "name": "stdout",
     "output_type": "stream",
     "text": [
      "created frequencies list.\n",
      "created initial bar graph\n",
      "Animating...\n"
     ]
    },
    {
     "data": {
      "image/png": "[encoded data removed]",
      "text/plain": [
       "<Figure size 720x720 with 1 Axes>"
      ]
     },
     "metadata": {
      "needs_background": "light"
     },
     "output_type": "display_data"
    }
   ],
   "source": [
    "#animation program taking input a list of names and genders--output gif of those names over time\n",
    "names = [('nathan','m'),('rosa','f')]\n",
    "name_range = len(names)\n",
    "#starting year\n",
    "#start_name_year = 1902\n",
    "start_year = 1880\n",
    "end_year = 2018\n",
    "num_frames = end_year - start_year + 1\n",
    "#create frequencies as empty dictionary \n",
    "frequencies = {}\n",
    "#frequencies[name][year] will by the number of people with name name in year year\n",
    "for name in names:\n",
    "    #new dictionary for each name\n",
    "    frequencies[name[0]] = {}\n",
    "    #query for the frequency data for all years\n",
    "    query = \"select frequency, year from baby where name = '\"+ name[0] + \"' and sex = '\"+ name[1]+\"' and year between \"+str(start_year)+\" and \" +str(end_year)+\";\"\n",
    "    cur.execute(query)\n",
    "    #define the dictionary entry\n",
    "    for frequency, year in cur.fetchall():\n",
    "        frequencies[name[0]][year]=frequency\n",
    "print(\"created frequencies list.\")\n",
    "\n",
    "#make a figure for the graph to go on \n",
    "fig=plt.figure(figsize = (10,10))\n",
    "\n",
    "#list of numbers from 1 to the name range\n",
    "#make tick marks labeled by the names\n",
    "x_data = range(1,name_range+1)\n",
    "plt.xticks(x_data, [str(name[0])+\" (\"+str(name[1])+\")\" for name in names])\n",
    "#plot frequency list in start year 1880\n",
    "# the [frequencies[name[0]].get(1880,0) for name in names] lists 0 if 1880 is not in the dictionary \n",
    "# frequencies[name[0]]\n",
    "barcollection = plt.bar(x_data,[frequencies[name[0]].get(1880,0) for name in names])\n",
    "#find the maximum frequency of all the data\n",
    "max_pop = max([max(frequencies[name[0]].values()) for name in names])\n",
    "#set the y-axis to be the maximum height\n",
    "plt.ylim(top=max_pop)\n",
    "print(\"created initial bar graph\")\n",
    "def animate(n):\n",
    "    #pause at end of animation\n",
    "    if n > num_frames-1:\n",
    "        n = num_frames-1\n",
    "    #name frequencies in year 1880+n as a list\n",
    "    y_data = [frequencies[name[0]].get(1880+n,0) for name in names]\n",
    "    #adjust the title to reflect current year\n",
    "    plt.title(\"Top \"+str(name_range)+\" names in \"+ \" now in \"+str(start_year+n))\n",
    "    #adjust bar heights\n",
    "    for i, b in enumerate(barcollection):\n",
    "        b.set_height(y_data[i])\n",
    "print(\"Animating...\")\n",
    "#make the animation\n",
    "anim=animation.FuncAnimation(fig,animate,repeat=False,blit=False,frames=num_frames+20,\n",
    "                             interval=200)\n",
    "#save the animation\n",
    "anim.save('sibling_gif.gif',writer='imagemagick')\n",
    "#plt.show()"
   ]
  },
  {
   "cell_type": "markdown",
   "metadata": {},
   "source": [
    "<img src = 'housemate_gif.gif'>"
   ]
  },
  {
   "cell_type": "markdown",
   "metadata": {},
   "source": [
    "<img src = 'sibling_gif.gif'>"
   ]
  },
  {
   "cell_type": "markdown",
   "metadata": {},
   "source": [
    "![my_image](housemate_gif.gif)"
   ]
  },
  {
   "cell_type": "markdown",
   "metadata": {},
   "source": [
    "![my_image](sibling_gif.gif)"
   ]
  },
  {
   "cell_type": "code",
   "execution_count": null,
   "metadata": {},
   "outputs": [],
   "source": []
  }
 ],
 "metadata": {
  "kernelspec": {
   "display_name": "Python 3",
   "language": "python",
   "name": "python3"
  },
  "language_info": {
   "codemirror_mode": {
    "name": "ipython",
    "version": 3
   },
   "file_extension": ".py",
   "mimetype": "text/x-python",
   "name": "python",
   "nbconvert_exporter": "python",
   "pygments_lexer": "ipython3",
   "version": "3.7.6"
  }
 },
 "nbformat": 4,
 "nbformat_minor": 4
}

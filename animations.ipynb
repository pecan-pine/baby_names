{
 "cells": [
  {
   "cell_type": "code",
   "execution_count": 8,
   "metadata": {},
   "outputs": [],
   "source": [
    "import mysql.connector\n",
    "import matplotlib.pyplot as plt\n",
    "from matplotlib.font_manager import FontProperties\n",
    "import matplotlib.animation as animation\n",
    "#connect to mysql server with database baby_names\n",
    "cnx = mysql.connector.connect(user='python', database='baby_names')\n",
    "#create mysql cursor object\n",
    "cur = cnx.cursor()"
   ]
  },
  {
   "cell_type": "code",
   "execution_count": 34,
   "metadata": {},
   "outputs": [
    {
     "name": "stdout",
     "output_type": "stream",
     "text": [
      "initialized variable. Total years: 138\n",
      "created frequencies list.\n",
      "created initial bar graph\n",
      "Animating...\n"
     ]
    },
    {
     "data": {
      "image/png": "[encoded data removed]",
      "text/plain": [
       "<Figure size 720x720 with 1 Axes>"
      ]
     },
     "metadata": {
      "needs_background": "light"
     },
     "output_type": "display_data"
    }
   ],
   "source": [
    "#new animation program with fixed names\n",
    "#number of frames, also number of years\n",
    "#how many names to select\n",
    "#the program doesn't account for when names do not appear in the database for a given year (fixed below)\n",
    "name_range = 5\n",
    "#starting year\n",
    "start_name_year = 2018\n",
    "start_year = 1880\n",
    "end_year = 2018\n",
    "num_frames = end_year - start_year + 1\n",
    "#end_year = start_year+num_frames-1\n",
    "print(\"initialized variable. Total years: \" + str(end_year - start_year))\n",
    "query = \"select name from baby where year = \" + str(start_name_year)+ \" and sex = 'f' order by year desc limit \" + str(name_range) + \" ;\"\n",
    "cur.execute(query)\n",
    "names = [name[0] for name in cur.fetchall()]\n",
    "frequencies = []\n",
    "#frequencies[i][n] will by the number of people with name i in year n\n",
    "for name in names:\n",
    "    frequencies.append([])\n",
    "    i = names.index(name)\n",
    "    query = \"select frequency from baby where name = '\"+ name + \"' and sex = 'f' and year between \"+str(start_year)+\" and \" +str(end_year)+\";\"\n",
    "    cur.execute(query)\n",
    "    frequencies[i] += [frequency[0] for frequency in cur.fetchall()]\n",
    "print(\"created frequencies list.\")\n",
    "fig=plt.figure(figsize = (10,10))\n",
    "\n",
    "x_data = range(1,name_range+1)\n",
    "plt.xticks(x_data, names)\n",
    "#plot frequency list in start year\n",
    "barcollection = plt.bar(x_data,[freq[0] for freq in frequencies])\n",
    "#max_pop = max(max(frequency_list(year)) for year in range(1880,1880+n))\n",
    "max_pop = max(max(freq) for freq in frequencies)\n",
    "plt.ylim(top=max_pop)\n",
    "print(\"created initial bar graph\")\n",
    "def animate(n):\n",
    "    if n > num_frames-1:\n",
    "        n = num_frames-1\n",
    "    #name frequencies in year\n",
    "    y_data = [freq[n] for freq in frequencies]\n",
    "    #y_data=frequency_list(i+1880)\n",
    "    plt.title(\"Top \"+str(name_range)+\" names in \"+ str(start_name_year)+ \" now in \"+str(start_year+n))\n",
    "    for i, b in enumerate(barcollection):\n",
    "        b.set_height(y_data[i])\n",
    "print(\"Animating...\")\n",
    "anim=animation.FuncAnimation(fig,animate,repeat=False,blit=False,frames=num_frames+20,\n",
    "                             interval=100)\n",
    "anim.save('animation.gif',writer='imagemagick')\n",
    "plt.show()"
   ]
  },
  {
   "cell_type": "code",
   "execution_count": 39,
   "metadata": {
    "scrolled": true
   },
   "outputs": [
    {
     "name": "stdout",
     "output_type": "stream",
     "text": [
      "initialized variable. Total years: 138\n",
      "27\n"
     ]
    }
   ],
   "source": [
    "#this part just creates the frequency dictionary \n",
    "#new animation program with fixed names\n",
    "#number of frames, also number of years\n",
    "#how many names to select\n",
    "#trying to account for when names do not appear in the database for a given year\n",
    "name_range = 10\n",
    "#starting year\n",
    "start_name_year = 1950\n",
    "start_year = 1880\n",
    "end_year = 2018\n",
    "num_frames = end_year - start_year + 1\n",
    "#end_year = start_year+num_frames-1\n",
    "print(\"initialized variable. Total years: \" + str(end_year - start_year))\n",
    "query = \"select name from baby where year = \" + str(start_name_year)+ \" and sex = 'f' order by year desc limit \" + str(name_range) + \" ;\"\n",
    "cur.execute(query)\n",
    "names = [name[0] for name in cur.fetchall()]\n",
    "frequencies = {}\n",
    "#frequencies[name][year] will by the number of people with name name in year year\n",
    "for name in names:\n",
    "    frequencies[name] = {}\n",
    "    #i = names.index(name)\n",
    "    query = \"select frequency, year from baby where name = '\"+ name + \"' and sex = 'f' and year between \"+str(start_year)+\" and \" +str(end_year)+\";\"\n",
    "    cur.execute(query)\n",
    "    for frequency, year in cur.fetchall():\n",
    "        frequencies[name][year]=frequency\n",
    "print(frequencies['Linda'][1880])\n",
    "#print(frequencies)\n",
    "#print([frequencies[name][1880] for name in names])"
   ]
  },
  {
   "cell_type": "code",
   "execution_count": 44,
   "metadata": {},
   "outputs": [
    {
     "name": "stdout",
     "output_type": "stream",
     "text": [
      "[27, 7065, 0, 127, 286, 410, 12, 0, 7, 21]\n",
      "99689\n"
     ]
    }
   ],
   "source": [
    "print([frequencies[name].get(1880,0) for name in names])\n",
    "print(max([max(frequencies[name].values()) for name in names]))"
   ]
  },
  {
   "cell_type": "code",
   "execution_count": 52,
   "metadata": {},
   "outputs": [
    {
     "name": "stdout",
     "output_type": "stream",
     "text": [
      "initialized variable. Total years: 138\n",
      "created frequencies list.\n",
      "created initial bar graph\n",
      "Animating...\n"
     ]
    },
    {
     "data": {
      "image/png": "[encoded data removed]",
      "text/plain": [
       "<Figure size 720x720 with 1 Axes>"
      ]
     },
     "metadata": {
      "needs_background": "light"
     },
     "output_type": "display_data"
    }
   ],
   "source": [
    "#new animation program with fixed names\n",
    "#number of frames, also number of years\n",
    "#how many names to select\n",
    "#trying to account for when names do not appear in the database for a given year\n",
    "name_range = 10\n",
    "#starting year\n",
    "start_name_year = 1902\n",
    "start_year = 1880\n",
    "end_year = 2018\n",
    "num_frames = end_year - start_year + 1\n",
    "#end_year = start_year+num_frames-1\n",
    "print(\"initialized variable. Total years: \" + str(end_year - start_year))\n",
    "#query mysql for the top female names in year 'start_name_year'\n",
    "query = \"select name from baby where year = \" + str(start_name_year)+ \" and sex = 'f' order by year desc limit \" + str(name_range) + \" ;\"\n",
    "cur.execute(query)\n",
    "names = [name[0] for name in cur.fetchall()]\n",
    "#create frequencies as empty dictionary \n",
    "frequencies = {}\n",
    "#frequencies[name][year] will by the number of people with name name in year year\n",
    "for name in names:\n",
    "    #new dictionary for each name\n",
    "    frequencies[name] = {}\n",
    "    #query for the frequency data for all years\n",
    "    query = \"select frequency, year from baby where name = '\"+ name + \"' and sex = 'f' and year between \"+str(start_year)+\" and \" +str(end_year)+\";\"\n",
    "    cur.execute(query)\n",
    "    #define the dictionary entry\n",
    "    for frequency, year in cur.fetchall():\n",
    "        frequencies[name][year]=frequency\n",
    "print(\"created frequencies list.\")\n",
    "\n",
    "#make a figure for the graph to go on \n",
    "fig=plt.figure(figsize = (10,10))\n",
    "\n",
    "#list of numbers from 1 to the name range\n",
    "#make tick marks labeled by the names\n",
    "x_data = range(1,name_range+1)\n",
    "plt.xticks(x_data, names)\n",
    "#plot frequency list in start year 1880\n",
    "# the [frequencies[name].get(1880,0) for name in names] lists 0 if 1880 is not in the dictionary \n",
    "# frequencies[name]\n",
    "barcollection = plt.bar(x_data,[frequencies[name].get(1880,0) for name in names])\n",
    "#find the maximum frequency of all the data\n",
    "max_pop = max([max(frequencies[name].values()) for name in names])\n",
    "#set the y-axis to be the maximum height\n",
    "plt.ylim(top=max_pop)\n",
    "print(\"created initial bar graph\")\n",
    "def animate(n):\n",
    "    #pause at end of animation\n",
    "    if n > num_frames-1:\n",
    "        n = num_frames-1\n",
    "    #name frequencies in year 1880+n as a list\n",
    "    y_data = [frequencies[name].get(1880+n,0) for name in names]\n",
    "    #adjust the title to reflect current year\n",
    "    plt.title(\"Top \"+str(name_range)+\" names in \"+ str(start_name_year)+ \" now in \"+str(start_year+n))\n",
    "    #adjust bar heights\n",
    "    for i, b in enumerate(barcollection):\n",
    "        b.set_height(y_data[i])\n",
    "print(\"Animating...\")\n",
    "#make the animation\n",
    "anim=animation.FuncAnimation(fig,animate,repeat=False,blit=False,frames=num_frames+20,\n",
    "                             interval=200)\n",
    "#save the animation\n",
    "anim.save(str(start_name_year)+'_names.gif',writer='imagemagick')\n",
    "#plt.show()"
   ]
  },
  {
   "cell_type": "markdown",
   "metadata": {},
   "source": [
    "<img src = \"1950_names.gif\">"
   ]
  },
  {
   "cell_type": "markdown",
   "metadata": {},
   "source": [
    "<img src='2018_names.gif'>"
   ]
  },
  {
   "cell_type": "markdown",
   "metadata": {},
   "source": [
    "<img src='1902_names.gif'>"
   ]
  },
  {
   "cell_type": "code",
   "execution_count": null,
   "metadata": {},
   "outputs": [],
   "source": []
  }
 ],
 "metadata": {
  "kernelspec": {
   "display_name": "Python 3",
   "language": "python",
   "name": "python3"
  },
  "language_info": {
   "codemirror_mode": {
    "name": "ipython",
    "version": 3
   },
   "file_extension": ".py",
   "mimetype": "text/x-python",
   "name": "python",
   "nbconvert_exporter": "python",
   "pygments_lexer": "ipython3",
   "version": "3.7.6"
  }
 },
 "nbformat": 4,
 "nbformat_minor": 4
}
